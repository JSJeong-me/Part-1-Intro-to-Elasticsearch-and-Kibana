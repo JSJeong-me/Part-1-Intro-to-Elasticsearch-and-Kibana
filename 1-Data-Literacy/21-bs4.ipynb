{
  "cells": [
    {
      "cell_type": "markdown",
      "metadata": {
        "id": "view-in-github",
        "colab_type": "text"
      },
      "source": [
        "<a href=\"https://colab.research.google.com/github/JSJeong-me/Part-1-Intro-to-Elasticsearch-and-Kibana/blob/main/1-Data-Literacy/21-bs4.ipynb\" target=\"_parent\"><img src=\"https://colab.research.google.com/assets/colab-badge.svg\" alt=\"Open In Colab\"/></a>"
      ]
    },
    {
      "cell_type": "code",
      "execution_count": 1,
      "id": "7e840927-4215-4a88-af14-c9cc3f1166da",
      "metadata": {
        "id": "7e840927-4215-4a88-af14-c9cc3f1166da"
      },
      "outputs": [],
      "source": [
        "import requests\n",
        "from bs4 import BeautifulSoup\n",
        "import pandas as pd"
      ]
    },
    {
      "cell_type": "code",
      "execution_count": 2,
      "id": "df5f0019-9d50-4c13-a52b-f21e19d7fd8b",
      "metadata": {
        "id": "df5f0019-9d50-4c13-a52b-f21e19d7fd8b"
      },
      "outputs": [],
      "source": [
        "tag = \"<p class='youngone' id='junu'> Hello World! </p>\""
      ]
    },
    {
      "cell_type": "code",
      "execution_count": 3,
      "id": "db2ea619-0746-4949-b586-f9bd7a545efd",
      "metadata": {
        "id": "db2ea619-0746-4949-b586-f9bd7a545efd"
      },
      "outputs": [],
      "source": [
        "soup = BeautifulSoup(tag)"
      ]
    },
    {
      "cell_type": "code",
      "execution_count": 4,
      "id": "8dc467bb-5287-46c0-8d1b-a7770f0eb3e0",
      "metadata": {
        "colab": {
          "base_uri": "https://localhost:8080/"
        },
        "id": "8dc467bb-5287-46c0-8d1b-a7770f0eb3e0",
        "outputId": "c23f94f7-64c9-4e45-883d-dbb2429d1b2c"
      },
      "outputs": [
        {
          "output_type": "execute_result",
          "data": {
            "text/plain": [
              "<html><body><p class=\"youngone\" id=\"junu\"> Hello World! </p></body></html>"
            ]
          },
          "metadata": {},
          "execution_count": 4
        }
      ],
      "source": [
        "soup"
      ]
    },
    {
      "cell_type": "code",
      "execution_count": 5,
      "id": "cd37944b-c1e1-468e-865c-6a1fc61569c5",
      "metadata": {
        "colab": {
          "base_uri": "https://localhost:8080/"
        },
        "id": "cd37944b-c1e1-468e-865c-6a1fc61569c5",
        "outputId": "a8d09b49-2791-47ad-cb6a-9ef13b544e36"
      },
      "outputs": [
        {
          "output_type": "execute_result",
          "data": {
            "text/plain": [
              "<p class=\"youngone\" id=\"junu\"> Hello World! </p>"
            ]
          },
          "metadata": {},
          "execution_count": 5
        }
      ],
      "source": [
        "soup.find('p')"
      ]
    },
    {
      "cell_type": "code",
      "source": [
        "soup.find(class_='youngone')"
      ],
      "metadata": {
        "colab": {
          "base_uri": "https://localhost:8080/"
        },
        "id": "hW2VjwWbshB2",
        "outputId": "96b525c8-0445-4e65-99e1-343a2c368b81"
      },
      "id": "hW2VjwWbshB2",
      "execution_count": 6,
      "outputs": [
        {
          "output_type": "execute_result",
          "data": {
            "text/plain": [
              "<p class=\"youngone\" id=\"junu\"> Hello World! </p>"
            ]
          },
          "metadata": {},
          "execution_count": 6
        }
      ]
    },
    {
      "cell_type": "code",
      "execution_count": 7,
      "id": "6b81aece-56cb-4fe6-925a-e7e13e2dc0fd",
      "metadata": {
        "colab": {
          "base_uri": "https://localhost:8080/"
        },
        "id": "6b81aece-56cb-4fe6-925a-e7e13e2dc0fd",
        "outputId": "7708bd51-c3d1-4cf4-aefb-a0b5e5f36e52"
      },
      "outputs": [
        {
          "output_type": "execute_result",
          "data": {
            "text/plain": [
              "<p class=\"youngone\" id=\"junu\"> Hello World! </p>"
            ]
          },
          "metadata": {},
          "execution_count": 7
        }
      ],
      "source": [
        "soup.find(attrs = {'class':'youngone'})"
      ]
    },
    {
      "cell_type": "code",
      "execution_count": 8,
      "id": "302f11cb-ffd2-49d9-88a5-d402623b8247",
      "metadata": {
        "colab": {
          "base_uri": "https://localhost:8080/"
        },
        "id": "302f11cb-ffd2-49d9-88a5-d402623b8247",
        "outputId": "ce33a340-79ed-47bf-a897-568c4eec5bf6"
      },
      "outputs": [
        {
          "output_type": "execute_result",
          "data": {
            "text/plain": [
              "<p class=\"youngone\" id=\"junu\"> Hello World! </p>"
            ]
          },
          "metadata": {},
          "execution_count": 8
        }
      ],
      "source": [
        "soup.find('p', class_='youngone')"
      ]
    },
    {
      "cell_type": "code",
      "execution_count": 9,
      "id": "196c75a1-cdff-447c-a1ce-981f06f09a45",
      "metadata": {
        "id": "196c75a1-cdff-447c-a1ce-981f06f09a45"
      },
      "outputs": [],
      "source": [
        "tag = \"<p class='youngone' id='junu'> Hello World! </p>\"\n",
        "soup = BeautifulSoup(tag)\n",
        "object_tag = soup.find('p')"
      ]
    },
    {
      "cell_type": "code",
      "execution_count": 10,
      "id": "5957b651-bd20-4f20-b23a-90b0344c0d54",
      "metadata": {
        "colab": {
          "base_uri": "https://localhost:8080/",
          "height": 35
        },
        "id": "5957b651-bd20-4f20-b23a-90b0344c0d54",
        "outputId": "f899d9cf-9e6e-42a2-8894-1895f5b36ee8"
      },
      "outputs": [
        {
          "output_type": "execute_result",
          "data": {
            "text/plain": [
              "'p'"
            ],
            "application/vnd.google.colaboratory.intrinsic+json": {
              "type": "string"
            }
          },
          "metadata": {},
          "execution_count": 10
        }
      ],
      "source": [
        "#태그의 이름\n",
        "object_tag.name\n",
        "#결과: 'p'"
      ]
    },
    {
      "cell_type": "code",
      "execution_count": 11,
      "id": "9837c71a-2d0e-4011-bd9a-7e22b53a5530",
      "metadata": {
        "colab": {
          "base_uri": "https://localhost:8080/",
          "height": 35
        },
        "id": "9837c71a-2d0e-4011-bd9a-7e22b53a5530",
        "outputId": "2e9ede5c-306f-4d3f-fd9f-8fedfbe33f96"
      },
      "outputs": [
        {
          "output_type": "execute_result",
          "data": {
            "text/plain": [
              "' Hello World! '"
            ],
            "application/vnd.google.colaboratory.intrinsic+json": {
              "type": "string"
            }
          },
          "metadata": {},
          "execution_count": 11
        }
      ],
      "source": [
        "#태그에 담긴 텍스트\n",
        "object_tag.text\n",
        "#결과: ' Hello World! '"
      ]
    },
    {
      "cell_type": "code",
      "execution_count": 12,
      "id": "8aaf6ddf-0313-4c25-8623-8e76d30ee643",
      "metadata": {
        "colab": {
          "base_uri": "https://localhost:8080/"
        },
        "id": "8aaf6ddf-0313-4c25-8623-8e76d30ee643",
        "outputId": "e4b0864a-264e-4570-bb52-20942dddb533"
      },
      "outputs": [
        {
          "output_type": "execute_result",
          "data": {
            "text/plain": [
              "{'class': ['youngone'], 'id': 'junu'}"
            ]
          },
          "metadata": {},
          "execution_count": 12
        }
      ],
      "source": [
        "#태그의 속성과 속성값\n",
        "object_tag.attrs\n",
        "#결과: {'class': ['youngone'], 'id': 'junu'}"
      ]
    },
    {
      "cell_type": "code",
      "source": [
        "html_doc = \"\"\"\n",
        "<html><head><title>The Dormouse's story</title></head>\n",
        "<body>\n",
        "<p class=\"title\"><b>The Dormouse's story</b></p>\n",
        "\n",
        "<p class=\"story\">Once upon a time there were three little sisters; and their names were\n",
        "<a href=\"http://example.com/elsie\" class=\"sister\" id=\"link1\">Elsie</a>,\n",
        "<a href=\"http://example.com/lacie\" class=\"sister\" id=\"link2\">Lacie</a> and\n",
        "<a href=\"http://example.com/tillie\" class=\"sister\" id=\"link3\">Tillie</a>;\n",
        "and they lived at the bottom of a well.</p>\n",
        "\n",
        "<p class=\"story\">...</p>\n",
        "\"\"\""
      ],
      "metadata": {
        "id": "OQadyNnBs6L8"
      },
      "id": "OQadyNnBs6L8",
      "execution_count": 13,
      "outputs": []
    },
    {
      "cell_type": "code",
      "source": [
        "from bs4 import BeautifulSoup\n",
        "soup = BeautifulSoup(html_doc, 'html.parser')"
      ],
      "metadata": {
        "id": "24yhYp1itF-t"
      },
      "id": "24yhYp1itF-t",
      "execution_count": 14,
      "outputs": []
    },
    {
      "cell_type": "code",
      "source": [
        "soup"
      ],
      "metadata": {
        "colab": {
          "base_uri": "https://localhost:8080/"
        },
        "id": "VacsDkEHtHjK",
        "outputId": "f176b7ba-3ca7-48d5-af67-ff8314510736"
      },
      "id": "VacsDkEHtHjK",
      "execution_count": 15,
      "outputs": [
        {
          "output_type": "execute_result",
          "data": {
            "text/plain": [
              "\n",
              "<html><head><title>The Dormouse's story</title></head>\n",
              "<body>\n",
              "<p class=\"title\"><b>The Dormouse's story</b></p>\n",
              "<p class=\"story\">Once upon a time there were three little sisters; and their names were\n",
              "<a class=\"sister\" href=\"http://example.com/elsie\" id=\"link1\">Elsie</a>,\n",
              "<a class=\"sister\" href=\"http://example.com/lacie\" id=\"link2\">Lacie</a> and\n",
              "<a class=\"sister\" href=\"http://example.com/tillie\" id=\"link3\">Tillie</a>;\n",
              "and they lived at the bottom of a well.</p>\n",
              "<p class=\"story\">...</p>\n",
              "</body></html>"
            ]
          },
          "metadata": {},
          "execution_count": 15
        }
      ]
    },
    {
      "cell_type": "code",
      "source": [
        "soup.title"
      ],
      "metadata": {
        "colab": {
          "base_uri": "https://localhost:8080/"
        },
        "id": "EnA4Q9-atJCg",
        "outputId": "0d0d6a75-9ce8-4b10-c6a5-1e5f0e7e2e0d"
      },
      "id": "EnA4Q9-atJCg",
      "execution_count": 16,
      "outputs": [
        {
          "output_type": "execute_result",
          "data": {
            "text/plain": [
              "<title>The Dormouse's story</title>"
            ]
          },
          "metadata": {},
          "execution_count": 16
        }
      ]
    },
    {
      "cell_type": "code",
      "source": [
        "soup.title.name"
      ],
      "metadata": {
        "colab": {
          "base_uri": "https://localhost:8080/",
          "height": 35
        },
        "id": "X4kIq4wGxjrb",
        "outputId": "4b858583-f3f3-4c13-fda1-bd9dea3ab911"
      },
      "id": "X4kIq4wGxjrb",
      "execution_count": 17,
      "outputs": [
        {
          "output_type": "execute_result",
          "data": {
            "text/plain": [
              "'title'"
            ],
            "application/vnd.google.colaboratory.intrinsic+json": {
              "type": "string"
            }
          },
          "metadata": {},
          "execution_count": 17
        }
      ]
    },
    {
      "cell_type": "code",
      "source": [
        "soup.title.string"
      ],
      "metadata": {
        "colab": {
          "base_uri": "https://localhost:8080/",
          "height": 35
        },
        "id": "SO5s5Zbvxt5H",
        "outputId": "fd54b96a-3b55-4102-e79c-b7c5a6c81929"
      },
      "id": "SO5s5Zbvxt5H",
      "execution_count": 18,
      "outputs": [
        {
          "output_type": "execute_result",
          "data": {
            "text/plain": [
              "\"The Dormouse's story\""
            ],
            "application/vnd.google.colaboratory.intrinsic+json": {
              "type": "string"
            }
          },
          "metadata": {},
          "execution_count": 18
        }
      ]
    },
    {
      "cell_type": "code",
      "source": [
        "soup.p"
      ],
      "metadata": {
        "colab": {
          "base_uri": "https://localhost:8080/"
        },
        "id": "-XilB2ATx2NN",
        "outputId": "34a12993-093f-4c24-b571-f7fd6de6dd7b"
      },
      "id": "-XilB2ATx2NN",
      "execution_count": 19,
      "outputs": [
        {
          "output_type": "execute_result",
          "data": {
            "text/plain": [
              "<p class=\"title\"><b>The Dormouse's story</b></p>"
            ]
          },
          "metadata": {},
          "execution_count": 19
        }
      ]
    },
    {
      "cell_type": "code",
      "source": [
        "soup.p['class']"
      ],
      "metadata": {
        "colab": {
          "base_uri": "https://localhost:8080/"
        },
        "id": "fDA0IloGyAf9",
        "outputId": "e60a16d0-5a74-4f37-90eb-c760c4cf03bb"
      },
      "id": "fDA0IloGyAf9",
      "execution_count": 20,
      "outputs": [
        {
          "output_type": "execute_result",
          "data": {
            "text/plain": [
              "['title']"
            ]
          },
          "metadata": {},
          "execution_count": 20
        }
      ]
    },
    {
      "cell_type": "code",
      "source": [
        "soup.a"
      ],
      "metadata": {
        "colab": {
          "base_uri": "https://localhost:8080/"
        },
        "id": "jWrwd2UlyLlP",
        "outputId": "04787a40-8e82-40bf-81c0-16257955a78b"
      },
      "id": "jWrwd2UlyLlP",
      "execution_count": 21,
      "outputs": [
        {
          "output_type": "execute_result",
          "data": {
            "text/plain": [
              "<a class=\"sister\" href=\"http://example.com/elsie\" id=\"link1\">Elsie</a>"
            ]
          },
          "metadata": {},
          "execution_count": 21
        }
      ]
    },
    {
      "cell_type": "code",
      "source": [
        "soup.find_all('a')"
      ],
      "metadata": {
        "colab": {
          "base_uri": "https://localhost:8080/"
        },
        "id": "n9cIlRcsyT8b",
        "outputId": "aa74c072-e8b0-449f-c872-e7bce72ae90d"
      },
      "id": "n9cIlRcsyT8b",
      "execution_count": 22,
      "outputs": [
        {
          "output_type": "execute_result",
          "data": {
            "text/plain": [
              "[<a class=\"sister\" href=\"http://example.com/elsie\" id=\"link1\">Elsie</a>,\n",
              " <a class=\"sister\" href=\"http://example.com/lacie\" id=\"link2\">Lacie</a>,\n",
              " <a class=\"sister\" href=\"http://example.com/tillie\" id=\"link3\">Tillie</a>]"
            ]
          },
          "metadata": {},
          "execution_count": 22
        }
      ]
    },
    {
      "cell_type": "code",
      "source": [
        "soup.find_all('a')[-1]"
      ],
      "metadata": {
        "colab": {
          "base_uri": "https://localhost:8080/"
        },
        "id": "fm3le2Koyi6z",
        "outputId": "1b4ec503-b898-41d6-8b9c-af515317c16b"
      },
      "id": "fm3le2Koyi6z",
      "execution_count": 23,
      "outputs": [
        {
          "output_type": "execute_result",
          "data": {
            "text/plain": [
              "<a class=\"sister\" href=\"http://example.com/tillie\" id=\"link3\">Tillie</a>"
            ]
          },
          "metadata": {},
          "execution_count": 23
        }
      ]
    },
    {
      "cell_type": "code",
      "source": [
        "soup.find(id='link3')"
      ],
      "metadata": {
        "colab": {
          "base_uri": "https://localhost:8080/"
        },
        "id": "qDVZi0u5ynI3",
        "outputId": "08f0fad0-d31c-4b60-b3c0-b4984db53aec"
      },
      "id": "qDVZi0u5ynI3",
      "execution_count": 24,
      "outputs": [
        {
          "output_type": "execute_result",
          "data": {
            "text/plain": [
              "<a class=\"sister\" href=\"http://example.com/tillie\" id=\"link3\">Tillie</a>"
            ]
          },
          "metadata": {},
          "execution_count": 24
        }
      ]
    },
    {
      "cell_type": "code",
      "source": [
        "for link in soup.find_all('a'):\n",
        "  print(link.get('href'))"
      ],
      "metadata": {
        "colab": {
          "base_uri": "https://localhost:8080/"
        },
        "id": "jox0wZtty58f",
        "outputId": "4dd634fc-6505-44d3-f2d6-177fe413aa94"
      },
      "id": "jox0wZtty58f",
      "execution_count": 25,
      "outputs": [
        {
          "output_type": "stream",
          "name": "stdout",
          "text": [
            "http://example.com/elsie\n",
            "http://example.com/lacie\n",
            "http://example.com/tillie\n"
          ]
        }
      ]
    },
    {
      "cell_type": "code",
      "source": [
        "soup.get_text()"
      ],
      "metadata": {
        "colab": {
          "base_uri": "https://localhost:8080/",
          "height": 54
        },
        "id": "gVZT9k_GzSyA",
        "outputId": "b42cac87-6461-48bf-e1fb-ee98b3bcb59a"
      },
      "id": "gVZT9k_GzSyA",
      "execution_count": 26,
      "outputs": [
        {
          "output_type": "execute_result",
          "data": {
            "text/plain": [
              "\"\\nThe Dormouse's story\\n\\nThe Dormouse's story\\nOnce upon a time there were three little sisters; and their names were\\nElsie,\\nLacie and\\nTillie;\\nand they lived at the bottom of a well.\\n...\\n\""
            ],
            "application/vnd.google.colaboratory.intrinsic+json": {
              "type": "string"
            }
          },
          "metadata": {},
          "execution_count": 26
        }
      ]
    },
    {
      "cell_type": "code",
      "source": [],
      "metadata": {
        "id": "E9mFyZFEzi_P"
      },
      "id": "E9mFyZFEzi_P",
      "execution_count": null,
      "outputs": []
    }
  ],
  "metadata": {
    "kernelspec": {
      "display_name": "Python 3 (ipykernel)",
      "language": "python",
      "name": "python3"
    },
    "language_info": {
      "codemirror_mode": {
        "name": "ipython",
        "version": 3
      },
      "file_extension": ".py",
      "mimetype": "text/x-python",
      "name": "python",
      "nbconvert_exporter": "python",
      "pygments_lexer": "ipython3",
      "version": "3.9.12"
    },
    "colab": {
      "provenance": [],
      "include_colab_link": true
    }
  },
  "nbformat": 4,
  "nbformat_minor": 5
}